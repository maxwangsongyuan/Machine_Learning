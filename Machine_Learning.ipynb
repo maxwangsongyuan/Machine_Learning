{
  "nbformat": 4,
  "nbformat_minor": 0,
  "metadata": {
    "colab": {
      "name": " Machine Learning",
      "provenance": [],
      "collapsed_sections": [],
      "mount_file_id": "1QPtUzkbBFRrnWIsgw1qhPBdw9IzyO7CA",
      "authorship_tag": "ABX9TyOPrb8NqyL0aDieA/0aGnZy",
      "include_colab_link": true
    },
    "kernelspec": {
      "name": "python3",
      "display_name": "Python 3"
    }
  },
  "cells": [
    {
      "cell_type": "markdown",
      "metadata": {
        "id": "view-in-github",
        "colab_type": "text"
      },
      "source": [
        "<a href=\"https://colab.research.google.com/github/wangsongyuan98/Machine_Learning/blob/main/Machine_Learning.ipynb\" target=\"_parent\"><img src=\"https://colab.research.google.com/assets/colab-badge.svg\" alt=\"Open In Colab\"/></a>"
      ]
    },
    {
      "cell_type": "markdown",
      "metadata": {
        "id": "ITrEQkH4ZmCo"
      },
      "source": [
        " # Machine Learning"
      ]
    },
    {
      "cell_type": "markdown",
      "metadata": {
        "id": "CzlwEKvfZuJ4"
      },
      "source": [
        "Objectives:\r\n",
        "* explore the data using visualization tools   \r\n",
        "* split your data into training and test sets  \r\n",
        "* create a model to predict whether a Pokemon is legendary or not based on the Pokemon properties."
      ]
    },
    {
      "cell_type": "code",
      "metadata": {
        "id": "_tteiMq8dVwv"
      },
      "source": [
        "import pandas as pd\r\n",
        "import numpy as np\r\n",
        "from io import StringIO\r\n",
        "import numpy.linalg as la"
      ],
      "execution_count": 42,
      "outputs": []
    },
    {
      "cell_type": "code",
      "metadata": {
        "id": "c952BuVNZpm2"
      },
      "source": [
        "# data source: https://www.kaggle.com/abcsds/pokemon/downloads/pokemon.zip/2\r\n",
        "df = pd.read_csv(\"/content/drive/MyDrive/Notability/CS 357/google collab/machine learning/Pokemon.csv\")"
      ],
      "execution_count": 43,
      "outputs": []
    },
    {
      "cell_type": "code",
      "metadata": {
        "colab": {
          "base_uri": "https://localhost:8080/"
        },
        "id": "67_Wq-KEdYi8",
        "outputId": "da6a3075-7a91-4a4a-c0db-643993e8a878"
      },
      "source": [
        "print(df.shape)"
      ],
      "execution_count": 44,
      "outputs": [
        {
          "output_type": "stream",
          "text": [
            "(800, 13)\n"
          ],
          "name": "stdout"
        }
      ]
    },
    {
      "cell_type": "code",
      "metadata": {
        "colab": {
          "base_uri": "https://localhost:8080/",
          "height": 197
        },
        "id": "Y1_cwKX_daVA",
        "outputId": "55fe3c09-2c3c-4736-c7c7-1a6a0bf91b3d"
      },
      "source": [
        "df.head()"
      ],
      "execution_count": 45,
      "outputs": [
        {
          "output_type": "execute_result",
          "data": {
            "text/html": [
              "<div>\n",
              "<style scoped>\n",
              "    .dataframe tbody tr th:only-of-type {\n",
              "        vertical-align: middle;\n",
              "    }\n",
              "\n",
              "    .dataframe tbody tr th {\n",
              "        vertical-align: top;\n",
              "    }\n",
              "\n",
              "    .dataframe thead th {\n",
              "        text-align: right;\n",
              "    }\n",
              "</style>\n",
              "<table border=\"1\" class=\"dataframe\">\n",
              "  <thead>\n",
              "    <tr style=\"text-align: right;\">\n",
              "      <th></th>\n",
              "      <th>#</th>\n",
              "      <th>Name</th>\n",
              "      <th>Type 1</th>\n",
              "      <th>Type 2</th>\n",
              "      <th>Total</th>\n",
              "      <th>HP</th>\n",
              "      <th>Attack</th>\n",
              "      <th>Defense</th>\n",
              "      <th>Sp. Atk</th>\n",
              "      <th>Sp. Def</th>\n",
              "      <th>Speed</th>\n",
              "      <th>Generation</th>\n",
              "      <th>Legendary</th>\n",
              "    </tr>\n",
              "  </thead>\n",
              "  <tbody>\n",
              "    <tr>\n",
              "      <th>0</th>\n",
              "      <td>1</td>\n",
              "      <td>Bulbasaur</td>\n",
              "      <td>Grass</td>\n",
              "      <td>Poison</td>\n",
              "      <td>318</td>\n",
              "      <td>45</td>\n",
              "      <td>49</td>\n",
              "      <td>49</td>\n",
              "      <td>65</td>\n",
              "      <td>65</td>\n",
              "      <td>45</td>\n",
              "      <td>1</td>\n",
              "      <td>False</td>\n",
              "    </tr>\n",
              "    <tr>\n",
              "      <th>1</th>\n",
              "      <td>2</td>\n",
              "      <td>Ivysaur</td>\n",
              "      <td>Grass</td>\n",
              "      <td>Poison</td>\n",
              "      <td>405</td>\n",
              "      <td>60</td>\n",
              "      <td>62</td>\n",
              "      <td>63</td>\n",
              "      <td>80</td>\n",
              "      <td>80</td>\n",
              "      <td>60</td>\n",
              "      <td>1</td>\n",
              "      <td>False</td>\n",
              "    </tr>\n",
              "    <tr>\n",
              "      <th>2</th>\n",
              "      <td>3</td>\n",
              "      <td>Venusaur</td>\n",
              "      <td>Grass</td>\n",
              "      <td>Poison</td>\n",
              "      <td>525</td>\n",
              "      <td>80</td>\n",
              "      <td>82</td>\n",
              "      <td>83</td>\n",
              "      <td>100</td>\n",
              "      <td>100</td>\n",
              "      <td>80</td>\n",
              "      <td>1</td>\n",
              "      <td>False</td>\n",
              "    </tr>\n",
              "    <tr>\n",
              "      <th>3</th>\n",
              "      <td>3</td>\n",
              "      <td>VenusaurMega Venusaur</td>\n",
              "      <td>Grass</td>\n",
              "      <td>Poison</td>\n",
              "      <td>625</td>\n",
              "      <td>80</td>\n",
              "      <td>100</td>\n",
              "      <td>123</td>\n",
              "      <td>122</td>\n",
              "      <td>120</td>\n",
              "      <td>80</td>\n",
              "      <td>1</td>\n",
              "      <td>False</td>\n",
              "    </tr>\n",
              "    <tr>\n",
              "      <th>4</th>\n",
              "      <td>4</td>\n",
              "      <td>Charmander</td>\n",
              "      <td>Fire</td>\n",
              "      <td>NaN</td>\n",
              "      <td>309</td>\n",
              "      <td>39</td>\n",
              "      <td>52</td>\n",
              "      <td>43</td>\n",
              "      <td>60</td>\n",
              "      <td>50</td>\n",
              "      <td>65</td>\n",
              "      <td>1</td>\n",
              "      <td>False</td>\n",
              "    </tr>\n",
              "  </tbody>\n",
              "</table>\n",
              "</div>"
            ],
            "text/plain": [
              "   #                   Name Type 1  ... Speed  Generation  Legendary\n",
              "0  1              Bulbasaur  Grass  ...    45           1      False\n",
              "1  2                Ivysaur  Grass  ...    60           1      False\n",
              "2  3               Venusaur  Grass  ...    80           1      False\n",
              "3  3  VenusaurMega Venusaur  Grass  ...    80           1      False\n",
              "4  4             Charmander   Fire  ...    65           1      False\n",
              "\n",
              "[5 rows x 13 columns]"
            ]
          },
          "metadata": {
            "tags": []
          },
          "execution_count": 45
        }
      ]
    },
    {
      "cell_type": "markdown",
      "metadata": {
        "id": "0vsHF_VaddwE"
      },
      "source": [
        "Define the 1d numpy array `y`, such that it contains whether a given Pokemon is legendary or not. The $i$th entry of y denotes whether the $i$th Pokemon is legendary (`True`) or not (`False`). We will later use a classification algorithm to help predict if a Pokemon is legendary."
      ]
    },
    {
      "cell_type": "code",
      "metadata": {
        "id": "yrauus-Sde5T"
      },
      "source": [
        "y = df['Legendary'].values"
      ],
      "execution_count": 46,
      "outputs": []
    },
    {
      "cell_type": "markdown",
      "metadata": {
        "id": "9CezlJyidiGs"
      },
      "source": [
        "Not every classifier can work with string or boolean types. Instead of having the array `y` as booleans, we can replace `True` with 1 and `False` with 0. Store this in the 1d numpy array `yb` with type `int64`"
      ]
    },
    {
      "cell_type": "code",
      "metadata": {
        "id": "rJ3OULVhdiuw"
      },
      "source": [
        "yb = y.astype('int64')"
      ],
      "execution_count": 47,
      "outputs": []
    },
    {
      "cell_type": "code",
      "metadata": {
        "id": "vPhdo5ckdvR2"
      },
      "source": [
        "labels = np.array(['Total', 'HP','Attack', 'Defense', 'Sp. Atk', 'Sp. Def', 'Speed' ])"
      ],
      "execution_count": 48,
      "outputs": []
    },
    {
      "cell_type": "markdown",
      "metadata": {
        "id": "F72T--2SdyV0"
      },
      "source": [
        "Create a new dataframe, copying from df, including only the features described in `labels`.  Name it `x`."
      ]
    },
    {
      "cell_type": "code",
      "metadata": {
        "id": "-pksglxSdy4Q"
      },
      "source": [
        "# x = df[labels].copy()\r\n",
        "\r\n",
        "\r\n",
        "z = df[labels]\r\n",
        "x = z.copy()"
      ],
      "execution_count": 49,
      "outputs": []
    },
    {
      "cell_type": "markdown",
      "metadata": {
        "id": "MHQr07Aud6zP"
      },
      "source": [
        "# Splitting the dataset"
      ]
    },
    {
      "cell_type": "markdown",
      "metadata": {
        "id": "Bo95vN1beAn8"
      },
      "source": [
        "To assess the model’s performance later, we divide the dataset into two parts: a training set and a test set. The first is used to train the system, while the second is used to evaluate the learned or trained model.  \r\n",
        "    \r\n",
        "We are going to use <mark>sklearn.model_selection.train_test_split</mark> to split the dataset"
      ]
    },
    {
      "cell_type": "code",
      "metadata": {
        "id": "nHV1LtJceCff"
      },
      "source": [
        "from sklearn.model_selection import train_test_split"
      ],
      "execution_count": 50,
      "outputs": []
    },
    {
      "cell_type": "markdown",
      "metadata": {
        "id": "2r2MSm4jeHPk"
      },
      "source": [
        "A common splitting choice is to take 2/3 of your original data set as the training set, while the 1/3 that remains will compose the test set. You should select this proportion by assigning the variable <mark>s</mark> and setting the argument <mark>test_sizes = s</mark> in <mark>sklearn.model_selection.train_test_split</mark>."
      ]
    },
    {
      "cell_type": "code",
      "metadata": {
        "id": "GJthFsiaeH3E"
      },
      "source": [
        "s = 0.33"
      ],
      "execution_count": 51,
      "outputs": []
    },
    {
      "cell_type": "markdown",
      "metadata": {
        "id": "XhX8YckreKHG"
      },
      "source": [
        "We will fix the seed for the random number generator, in order to get reproducible results"
      ]
    },
    {
      "cell_type": "code",
      "metadata": {
        "id": "c9UEEmsIeKjU"
      },
      "source": [
        "seed = 41"
      ],
      "execution_count": 52,
      "outputs": []
    },
    {
      "cell_type": "markdown",
      "metadata": {
        "id": "5RZK6G9TeOIU"
      },
      "source": [
        "Split the arrays `x` and `yb` into training data (X_train,Y_train) and test data (X_test,Y_test) using  [sklearn.model_selection.train_test_split](https://scikit-learn.org/stable/modules/generated/sklearn.model_selection.train_test_split.html)\r\n",
        "\r\n",
        "```\r\n",
        "X_train, X_test, Y_train, Y_test = train_test_split(X, Y, test_size=s, random_state=seed)\r\n",
        "```\r\n"
      ]
    },
    {
      "cell_type": "code",
      "metadata": {
        "colab": {
          "base_uri": "https://localhost:8080/"
        },
        "id": "skL1jvVBeOlE",
        "outputId": "e4a62740-26b9-4da8-acc6-3b6a1975430a"
      },
      "source": [
        "X_train, X_test, Y_train, Y_test = train_test_split(x, yb, test_size=s, random_state=seed)\r\n",
        "X_test.shape"
      ],
      "execution_count": 53,
      "outputs": [
        {
          "output_type": "execute_result",
          "data": {
            "text/plain": [
              "(264, 7)"
            ]
          },
          "metadata": {
            "tags": []
          },
          "execution_count": 53
        }
      ]
    },
    {
      "cell_type": "markdown",
      "metadata": {
        "id": "L0KvW2lpeaw5"
      },
      "source": [
        "### Logistic regression"
      ]
    },
    {
      "cell_type": "code",
      "metadata": {
        "colab": {
          "base_uri": "https://localhost:8080/"
        },
        "id": "jaJEMm2VecGf",
        "outputId": "f1ec1208-f719-4365-cdcf-2bcceae7b1eb"
      },
      "source": [
        "type(Y_train)"
      ],
      "execution_count": 54,
      "outputs": [
        {
          "output_type": "execute_result",
          "data": {
            "text/plain": [
              "numpy.ndarray"
            ]
          },
          "metadata": {
            "tags": []
          },
          "execution_count": 54
        }
      ]
    },
    {
      "cell_type": "markdown",
      "metadata": {
        "id": "EIw-I4BZefLj"
      },
      "source": [
        "Now that we have a dataset to train our model and a dataset to validate our model, we need to construct a model.\r\n",
        "\r\n",
        "To introduce this, we will begin by using a logistic regression model. This is used for classification tasks where data points can only be a member of one class. The model can be solved either using a modified version of least squares or newton's method."
      ]
    },
    {
      "cell_type": "code",
      "metadata": {
        "id": "PJ0dMI07eghX"
      },
      "source": [
        "from sklearn.linear_model import LogisticRegression"
      ],
      "execution_count": 55,
      "outputs": []
    },
    {
      "cell_type": "markdown",
      "metadata": {
        "id": "A64Q1UPwehnb"
      },
      "source": [
        "Using the [LogisticRegression function](https://scikit-learn.org/stable/modules/generated/sklearn.linear_model.LogisticRegression.html), make an instance of the model. We will use the default parameters for now, and the `LBFGS` method as a solver:"
      ]
    },
    {
      "cell_type": "code",
      "metadata": {
        "id": "gD1pCTJ8ekal"
      },
      "source": [
        "model = LogisticRegression(solver=\"lbfgs\")"
      ],
      "execution_count": 56,
      "outputs": []
    },
    {
      "cell_type": "markdown",
      "metadata": {
        "id": "9Xt9E7xbemqB"
      },
      "source": [
        "Using this instance of the model, let's use the training data to train the model.\r\n",
        "Use `model.fit(X_train, Y_train)` to train the model."
      ]
    },
    {
      "cell_type": "code",
      "metadata": {
        "colab": {
          "base_uri": "https://localhost:8080/"
        },
        "id": "zy8vYMekenr_",
        "outputId": "5791e0e4-3df6-4cf3-d086-1a18997dd5a6"
      },
      "source": [
        "model.fit(X_train, Y_train)"
      ],
      "execution_count": 57,
      "outputs": [
        {
          "output_type": "execute_result",
          "data": {
            "text/plain": [
              "LogisticRegression(C=1.0, class_weight=None, dual=False, fit_intercept=True,\n",
              "                   intercept_scaling=1, l1_ratio=None, max_iter=100,\n",
              "                   multi_class='auto', n_jobs=None, penalty='l2',\n",
              "                   random_state=None, solver='lbfgs', tol=0.0001, verbose=0,\n",
              "                   warm_start=False)"
            ]
          },
          "metadata": {
            "tags": []
          },
          "execution_count": 57
        }
      ]
    },
    {
      "cell_type": "markdown",
      "metadata": {
        "id": "0q5kYqPPeuY3"
      },
      "source": [
        "## Model Prediction\r\n",
        "\r\n",
        "We now have a trained model and we can begin using it to make predictions. Recall that we want to use our model to predict whether a Pokemon is legendary or not.\r\n",
        "\r\n",
        "Use the model to predict whether the Pokemon in the test dataset `X_test` are legendary (set not used during the training). You can use the model to make predictions using the predict function\r\n",
        "```\r\n",
        "model.predict(X_test)\r\n",
        "```\r\n",
        "\r\n",
        "Store the prediction as `Ypredict`."
      ]
    },
    {
      "cell_type": "code",
      "metadata": {
        "colab": {
          "base_uri": "https://localhost:8080/"
        },
        "id": "pzJrHDijevvO",
        "outputId": "75c0b474-8042-4b9c-d340-1289e7ece02f"
      },
      "source": [
        "Ypredict = model.predict(X_test)\r\n",
        "print(Ypredict)"
      ],
      "execution_count": 58,
      "outputs": [
        {
          "output_type": "stream",
          "text": [
            "[0 0 0 0 0 0 0 0 0 0 0 0 1 0 0 0 0 0 0 0 0 0 0 0 0 0 0 0 1 0 0 0 0 0 0 0 0\n",
            " 0 0 0 0 0 0 0 0 0 0 0 0 0 0 0 0 0 0 0 1 0 0 0 0 0 0 0 0 0 0 0 0 0 0 0 0 0\n",
            " 0 0 0 0 1 0 0 0 0 0 0 0 0 0 0 0 0 0 0 0 0 0 0 0 0 0 0 0 0 0 0 0 0 0 0 0 0\n",
            " 0 0 1 0 0 0 0 0 0 0 0 0 0 0 0 0 0 0 0 0 0 0 0 0 0 0 1 0 0 0 0 0 0 0 0 0 1\n",
            " 0 0 0 0 0 0 0 1 0 0 0 0 0 0 0 0 0 0 0 0 0 0 0 0 0 0 0 0 1 0 0 0 0 0 0 0 0\n",
            " 0 1 0 0 0 0 0 1 0 0 0 0 0 0 0 0 0 0 0 0 0 0 0 0 0 0 0 0 1 0 0 0 0 0 0 0 1\n",
            " 0 0 0 0 0 0 0 0 0 0 0 0 0 0 0 0 0 0 0 0 0 1 0 0 0 0 0 0 0 0 0 0 0 0 0 0 0\n",
            " 0 0 0 0 0]\n"
          ],
          "name": "stdout"
        }
      ]
    },
    {
      "cell_type": "code",
      "metadata": {
        "colab": {
          "base_uri": "https://localhost:8080/"
        },
        "id": "GpPCUcGKe0T1",
        "outputId": "0d8652be-44e0-41d3-d18d-e63a416096ad"
      },
      "source": [
        "np.sum(Ypredict)"
      ],
      "execution_count": 59,
      "outputs": [
        {
          "output_type": "execute_result",
          "data": {
            "text/plain": [
              "14"
            ]
          },
          "metadata": {
            "tags": []
          },
          "execution_count": 59
        }
      ]
    },
    {
      "cell_type": "markdown",
      "metadata": {
        "id": "RgQ6VaBhe1__"
      },
      "source": [
        "How many Pokemons are predicted as legendary? Store this as `n_predict_legendary`. \r\n",
        "\r\n",
        "How many legendary Pokemons actually exist in the dataset? Store this as `n_actual_legendary`. "
      ]
    },
    {
      "cell_type": "code",
      "metadata": {
        "colab": {
          "base_uri": "https://localhost:8080/"
        },
        "id": "RhF_Mfyye27_",
        "outputId": "f1ef772c-825e-4751-83db-f4453fd54929"
      },
      "source": [
        "n_predict_legendary = (Ypredict == 1).sum()\r\n",
        "n_predict_legendary"
      ],
      "execution_count": 60,
      "outputs": [
        {
          "output_type": "execute_result",
          "data": {
            "text/plain": [
              "14"
            ]
          },
          "metadata": {
            "tags": []
          },
          "execution_count": 60
        }
      ]
    },
    {
      "cell_type": "code",
      "metadata": {
        "colab": {
          "base_uri": "https://localhost:8080/"
        },
        "id": "gvLvdns1e4HP",
        "outputId": "d188a85c-da28-48cf-96a5-fa9a7939ede7"
      },
      "source": [
        "n_actual_legendary = (Y_test == 1).sum()\r\n",
        "n_actual_legendary"
      ],
      "execution_count": 61,
      "outputs": [
        {
          "output_type": "execute_result",
          "data": {
            "text/plain": [
              "19"
            ]
          },
          "metadata": {
            "tags": []
          },
          "execution_count": 61
        }
      ]
    },
    {
      "cell_type": "markdown",
      "metadata": {
        "id": "yT7OeEr1e6v1"
      },
      "source": [
        "Unfortunately this information does not tell you how good your model is."
      ]
    },
    {
      "cell_type": "markdown",
      "metadata": {
        "id": "5x9SIUfue7oB"
      },
      "source": [
        "#### How do we know good our prediction is? How can we measure how good is the model?"
      ]
    },
    {
      "cell_type": "markdown",
      "metadata": {
        "id": "3MVjCdHWe9UD"
      },
      "source": [
        "One way of determining the performance of our model is using a confusion matrix. A confusion matrix describes the performance of the classification model on a set of test data for which the true values are known. A confusion matrix stores the true positives, false positives, false negatives, and true negatives for our test data."
      ]
    },
    {
      "cell_type": "markdown",
      "metadata": {
        "id": "Ixirrq78fvt6"
      },
      "source": [
        ""
      ]
    },
    {
      "cell_type": "code",
      "metadata": {
        "id": "roJCIbgbe_ex"
      },
      "source": [
        "from sklearn.metrics import confusion_matrix"
      ],
      "execution_count": 62,
      "outputs": []
    },
    {
      "cell_type": "markdown",
      "metadata": {
        "id": "iaVxDm-3fA0g"
      },
      "source": [
        "Let's use the `confusion_matrix` function in sklearn to construct a confusion matrix for our dataset."
      ]
    },
    {
      "cell_type": "code",
      "metadata": {
        "colab": {
          "base_uri": "https://localhost:8080/"
        },
        "id": "icJ4342NfBrY",
        "outputId": "fa72f56e-1ced-49cb-9f71-58183abd646e"
      },
      "source": [
        "cmat = confusion_matrix(Y_test,Ypredict)\r\n",
        "\r\n",
        "print(\"confusion matrix:\\n\",cmat)\r\n",
        "\r\n",
        "TN, FP, FN, TP = cmat.ravel()"
      ],
      "execution_count": 63,
      "outputs": [
        {
          "output_type": "stream",
          "text": [
            "confusion matrix:\n",
            " [[239   6]\n",
            " [ 11   8]]\n"
          ],
          "name": "stdout"
        }
      ]
    },
    {
      "cell_type": "markdown",
      "metadata": {
        "id": "TJabC5e_fDuh"
      },
      "source": [
        " $$  \\text{Confusion matrix} = \\left[ \\begin{array} {cccc} TN & FP\\\\ FN&TP \\end{array} \\right] $$\r\n",
        " \r\n",
        "TN: Predicted no (not engendary), and the pokemon is not legendary. (How many non-legendary pokemons are correctly identified?)\r\n",
        "\r\n",
        "FP: Predicted yes (legendary), but the pokemon is not legendary. (How many non-legendary pokemon are identified as legendary? )\r\n",
        "\r\n",
        "\r\n",
        "FN: Predicted no (not lengendary), but the pokemon is actually legendary. (How many legendary pokemon are missed?)\r\n",
        "\r\n",
        "TP: Predicted yes (legendary), and the pokemon is legendary. (How many legendary pokemons are correctly identified? )  \r\n",
        "\r\n",
        "\r\n"
      ]
    },
    {
      "cell_type": "markdown",
      "metadata": {
        "id": "W3Zvc7qhfHlm"
      },
      "source": [
        "#### There are different \"scores\" to quantify how good the model is. Here are some of them:"
      ]
    },
    {
      "cell_type": "markdown",
      "metadata": {
        "id": "h5d_VbUxfJbf"
      },
      "source": [
        "1) Accuracy: fraction of correct classification https://scikit-learn.org/stable/modules/generated/sklearn.metrics.accuracy_score.html"
      ]
    },
    {
      "cell_type": "code",
      "metadata": {
        "colab": {
          "base_uri": "https://localhost:8080/"
        },
        "id": "6lmVdFcifLV2",
        "outputId": "8fb766e3-6be0-4f56-dc12-a39a0853a1a1"
      },
      "source": [
        "from sklearn.metrics import accuracy_score\r\n",
        "\r\n",
        "accuracy_score(Y_test, Ypredict)"
      ],
      "execution_count": 64,
      "outputs": [
        {
          "output_type": "execute_result",
          "data": {
            "text/plain": [
              "0.9356060606060606"
            ]
          },
          "metadata": {
            "tags": []
          },
          "execution_count": 64
        }
      ]
    },
    {
      "cell_type": "markdown",
      "metadata": {
        "id": "rq6yG-8cfM5f"
      },
      "source": [
        "which can be also computed as:"
      ]
    },
    {
      "cell_type": "code",
      "metadata": {
        "colab": {
          "base_uri": "https://localhost:8080/"
        },
        "id": "Lf1MRPFFfOMC",
        "outputId": "864c451c-a7e6-4722-d4b5-a9d390819b5f"
      },
      "source": [
        "(Y_test==Ypredict).sum()/len(Y_test)"
      ],
      "execution_count": 65,
      "outputs": [
        {
          "output_type": "execute_result",
          "data": {
            "text/plain": [
              "0.9356060606060606"
            ]
          },
          "metadata": {
            "tags": []
          },
          "execution_count": 65
        }
      ]
    },
    {
      "cell_type": "markdown",
      "metadata": {
        "id": "s35pTteHfQUy"
      },
      "source": [
        "2) Precision: when it predicts yes (legendary), how often is the prediction correct?\r\n",
        "https://scikit-learn.org/stable/modules/generated/sklearn.metrics.precision_score.html"
      ]
    },
    {
      "cell_type": "code",
      "metadata": {
        "colab": {
          "base_uri": "https://localhost:8080/"
        },
        "id": "rs2l2Qo9fRF3",
        "outputId": "eaec82fa-6b30-41aa-ad45-ea727201253f"
      },
      "source": [
        "from sklearn.metrics import precision_score\r\n",
        "\r\n",
        "precision_score(Y_test, Ypredict)"
      ],
      "execution_count": 66,
      "outputs": [
        {
          "output_type": "execute_result",
          "data": {
            "text/plain": [
              "0.5714285714285714"
            ]
          },
          "metadata": {
            "tags": []
          },
          "execution_count": 66
        }
      ]
    },
    {
      "cell_type": "markdown",
      "metadata": {
        "id": "p1oSmtY7fTF8"
      },
      "source": [
        "which can be also computed as:"
      ]
    },
    {
      "cell_type": "code",
      "metadata": {
        "colab": {
          "base_uri": "https://localhost:8080/"
        },
        "id": "S81Ucao9fUGS",
        "outputId": "a4f7282c-bee8-4b20-d09d-030247b769a1"
      },
      "source": [
        "TP/(TP+FP)"
      ],
      "execution_count": 67,
      "outputs": [
        {
          "output_type": "execute_result",
          "data": {
            "text/plain": [
              "0.5714285714285714"
            ]
          },
          "metadata": {
            "tags": []
          },
          "execution_count": 67
        }
      ]
    },
    {
      "cell_type": "markdown",
      "metadata": {
        "id": "HB1x5o3ffVfk"
      },
      "source": [
        "3) Recall: when actually yes (legendary), how often is the prediction correct? https://scikit-learn.org/stable/modules/generated/sklearn.metrics.recall_score.html"
      ]
    },
    {
      "cell_type": "code",
      "metadata": {
        "colab": {
          "base_uri": "https://localhost:8080/"
        },
        "id": "b_QZxDhbfV-0",
        "outputId": "1ddad391-1763-4456-c078-9760138dc69b"
      },
      "source": [
        "from sklearn.metrics import recall_score\r\n",
        "\r\n",
        "recall_score(Y_test, Ypredict)"
      ],
      "execution_count": 68,
      "outputs": [
        {
          "output_type": "execute_result",
          "data": {
            "text/plain": [
              "0.42105263157894735"
            ]
          },
          "metadata": {
            "tags": []
          },
          "execution_count": 68
        }
      ]
    },
    {
      "cell_type": "markdown",
      "metadata": {
        "id": "0Tquj_O8fX1B"
      },
      "source": [
        "which can be also computed as:"
      ]
    },
    {
      "cell_type": "code",
      "metadata": {
        "colab": {
          "base_uri": "https://localhost:8080/"
        },
        "id": "vFqZ1yQvfY-U",
        "outputId": "68725bbe-4eae-41ce-f7bf-7e49a559c571"
      },
      "source": [
        "TP/(TP+FN)"
      ],
      "execution_count": 69,
      "outputs": [
        {
          "output_type": "execute_result",
          "data": {
            "text/plain": [
              "0.42105263157894735"
            ]
          },
          "metadata": {
            "tags": []
          },
          "execution_count": 69
        }
      ]
    },
    {
      "cell_type": "markdown",
      "metadata": {
        "id": "7MC4ZjkLfewu"
      },
      "source": [
        "## Different Models:"
      ]
    },
    {
      "cell_type": "markdown",
      "metadata": {
        "id": "6k79iXsBffiI"
      },
      "source": [
        "Starting with an initial dataset, we learned how to prepare the data, split the data, construct a model, and then use the model using sklearn.\r\n",
        "\r\n",
        "Let's try and repeat this experiment now but with a different model. Below are 5 different classifiers (models) found in sklearn. Compare your results for each of the classifiers. Which works best for the task of determining legendary status of a Pokemon?"
      ]
    },
    {
      "cell_type": "code",
      "metadata": {
        "id": "nmErnujwfgQ7"
      },
      "source": [
        "from sklearn.neighbors import KNeighborsClassifier\r\n",
        "from sklearn.ensemble import GradientBoostingClassifier\r\n",
        "from sklearn.ensemble import RandomForestClassifier\r\n",
        "from sklearn.naive_bayes import GaussianNB\r\n",
        "from sklearn.svm import SVC"
      ],
      "execution_count": 70,
      "outputs": []
    },
    {
      "cell_type": "code",
      "metadata": {
        "id": "pXwJOOvifhLy"
      },
      "source": [
        "dict_classifiers = {\r\n",
        "    \"Nearest Neighbors\": KNeighborsClassifier(),\r\n",
        "    \"Linear SVM\": SVC(),\r\n",
        "    \"Gradient Boosting Classifier\": GradientBoostingClassifier(),\r\n",
        "    \"Random Forest\": RandomForestClassifier(),\r\n",
        "    \"Naive Bayes\": GaussianNB(),\r\n",
        "    \"Logistic Regression\": LogisticRegression(solver=\"lbfgs\")\r\n",
        "}"
      ],
      "execution_count": 71,
      "outputs": []
    },
    {
      "cell_type": "code",
      "metadata": {
        "colab": {
          "base_uri": "https://localhost:8080/"
        },
        "id": "IXwEpdFYfh6u",
        "outputId": "b212bf7b-f73c-4330-e577-7895bce05a20"
      },
      "source": [
        "print('%30s %16s %16s %16s' % (\"Classifier\",\"recall\", \"precision\", \"accuracy\") )\r\n",
        "for name, clf in list(dict_classifiers.items()):\r\n",
        "    \r\n",
        "    clf.fit(X_train, Y_train)\r\n",
        "    y_result = clf.predict(X_test)\r\n",
        "    recall = recall_score(Y_test, y_result)\r\n",
        "    precision = precision_score(Y_test, y_result)\r\n",
        "    acc = accuracy_score(Y_test, y_result)\r\n",
        "    print('%30s %16f %16f %16f' % (name,recall, precision, acc) )"
      ],
      "execution_count": 72,
      "outputs": [
        {
          "output_type": "stream",
          "text": [
            "                    Classifier           recall        precision         accuracy\n",
            "             Nearest Neighbors         0.789474         0.681818         0.958333\n",
            "                    Linear SVM         0.368421         0.777778         0.946970\n",
            "  Gradient Boosting Classifier         0.842105         0.727273         0.965909\n",
            "                 Random Forest         0.736842         0.700000         0.958333\n",
            "                   Naive Bayes         0.947368         0.514286         0.931818\n",
            "           Logistic Regression         0.421053         0.571429         0.935606\n"
          ],
          "name": "stdout"
        }
      ]
    }
  ]
}